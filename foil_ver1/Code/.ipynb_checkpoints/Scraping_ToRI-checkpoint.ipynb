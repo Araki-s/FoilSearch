{
 "cells": [
  {
   "cell_type": "code",
   "execution_count": 167,
   "metadata": {},
   "outputs": [
    {
     "data": {
      "text/html": [
       "<style>\n",
       "    div#notebook-container    { width: 95%; }\n",
       "    div#menubar-container     { width: 65%; }\n",
       "    div#maintoolbar-container { width: 99%; }\n",
       "</style>\n"
      ],
      "text/plain": [
       "<IPython.core.display.HTML object>"
      ]
     },
     "metadata": {},
     "output_type": "display_data"
    }
   ],
   "source": [
    "%%HTML\n",
    "<style>\n",
    "    div#notebook-container    { width: 95%; }\n",
    "    div#menubar-container     { width: 65%; }\n",
    "    div#maintoolbar-container { width: 99%; }\n",
    "</style>"
   ]
  },
  {
   "cell_type": "code",
   "execution_count": 1,
   "metadata": {
    "scrolled": true
   },
   "outputs": [
    {
     "ename": "FileNotFoundError",
     "evalue": "[Errno 2] No such file or directory: 'C:/Users/takeh/Research/Xrays_molded.csv'",
     "output_type": "error",
     "traceback": [
      "\u001b[1;31m---------------------------------------------------------------------------\u001b[0m",
      "\u001b[1;31mFileNotFoundError\u001b[0m                         Traceback (most recent call last)",
      "\u001b[1;32m<ipython-input-1-2cbca9a5e94f>\u001b[0m in \u001b[0;36m<module>\u001b[1;34m\u001b[0m\n\u001b[0;32m    148\u001b[0m \u001b[1;33m\u001b[0m\u001b[0m\n\u001b[0;32m    149\u001b[0m \u001b[1;32mif\u001b[0m \u001b[0m__name__\u001b[0m \u001b[1;33m==\u001b[0m \u001b[1;34m\"__main__\"\u001b[0m\u001b[1;33m:\u001b[0m\u001b[1;33m\u001b[0m\u001b[1;33m\u001b[0m\u001b[0m\n\u001b[1;32m--> 150\u001b[1;33m     \u001b[0mexecute\u001b[0m \u001b[1;33m=\u001b[0m \u001b[0mToRI\u001b[0m\u001b[1;33m(\u001b[0m\u001b[1;33m)\u001b[0m\u001b[1;33m\u001b[0m\u001b[1;33m\u001b[0m\u001b[0m\n\u001b[0m",
      "\u001b[1;32m<ipython-input-1-2cbca9a5e94f>\u001b[0m in \u001b[0;36m__init__\u001b[1;34m(self)\u001b[0m\n\u001b[0;32m     16\u001b[0m         \u001b[0mself\u001b[0m\u001b[1;33m.\u001b[0m\u001b[0mGammas\u001b[0m \u001b[1;33m=\u001b[0m \u001b[1;33m[\u001b[0m\u001b[1;33m]\u001b[0m\u001b[1;33m\u001b[0m\u001b[1;33m\u001b[0m\u001b[0m\n\u001b[0;32m     17\u001b[0m         \u001b[0mself\u001b[0m\u001b[1;33m.\u001b[0m\u001b[0mstable\u001b[0m \u001b[1;33m=\u001b[0m \u001b[1;33m[\u001b[0m\u001b[1;33m]\u001b[0m\u001b[1;33m\u001b[0m\u001b[1;33m\u001b[0m\u001b[0m\n\u001b[1;32m---> 18\u001b[1;33m         \u001b[0mself\u001b[0m\u001b[1;33m.\u001b[0m\u001b[0mRead_Gammas\u001b[0m\u001b[1;33m(\u001b[0m\u001b[1;33m)\u001b[0m\u001b[1;33m\u001b[0m\u001b[1;33m\u001b[0m\u001b[0m\n\u001b[0m\u001b[0;32m     19\u001b[0m \u001b[1;31m#         self.Mold()\u001b[0m\u001b[1;33m\u001b[0m\u001b[1;33m\u001b[0m\u001b[1;33m\u001b[0m\u001b[0m\n\u001b[0;32m     20\u001b[0m \u001b[1;31m#         self.ToRI_scraping()\u001b[0m\u001b[1;33m\u001b[0m\u001b[1;33m\u001b[0m\u001b[1;33m\u001b[0m\u001b[0m\n",
      "\u001b[1;32m<ipython-input-1-2cbca9a5e94f>\u001b[0m in \u001b[0;36mRead_Gammas\u001b[1;34m(self)\u001b[0m\n\u001b[0;32m    107\u001b[0m \u001b[1;33m\u001b[0m\u001b[0m\n\u001b[0;32m    108\u001b[0m     \u001b[1;32mdef\u001b[0m \u001b[0mRead_Gammas\u001b[0m\u001b[1;33m(\u001b[0m\u001b[0mself\u001b[0m\u001b[1;33m)\u001b[0m\u001b[1;33m:\u001b[0m\u001b[1;33m\u001b[0m\u001b[1;33m\u001b[0m\u001b[0m\n\u001b[1;32m--> 109\u001b[1;33m         \u001b[0mf\u001b[0m \u001b[1;33m=\u001b[0m \u001b[0mopen\u001b[0m\u001b[1;33m(\u001b[0m\u001b[1;34m\"C:/Users/takeh/Research/Xrays_molded.csv\"\u001b[0m\u001b[1;33m)\u001b[0m\u001b[1;33m\u001b[0m\u001b[1;33m\u001b[0m\u001b[0m\n\u001b[0m\u001b[0;32m    110\u001b[0m         \u001b[0mline\u001b[0m \u001b[1;33m=\u001b[0m \u001b[0mf\u001b[0m\u001b[1;33m.\u001b[0m\u001b[0mreadline\u001b[0m\u001b[1;33m(\u001b[0m\u001b[1;33m)\u001b[0m\u001b[1;33m\u001b[0m\u001b[1;33m\u001b[0m\u001b[0m\n\u001b[0;32m    111\u001b[0m         \u001b[1;32mwhile\u001b[0m \u001b[0mline\u001b[0m\u001b[1;33m:\u001b[0m\u001b[1;33m\u001b[0m\u001b[1;33m\u001b[0m\u001b[0m\n",
      "\u001b[1;31mFileNotFoundError\u001b[0m: [Errno 2] No such file or directory: 'C:/Users/takeh/Research/Xrays_molded.csv'"
     ]
    }
   ],
   "source": [
    "from tqdm.notebook import tqdm as tqdm\n",
    "import requests\n",
    "from bs4 import BeautifulSoup as bs4\n",
    "import openpyxl as opx\n",
    "from lxml import html\n",
    "from time import sleep\n",
    "import re\n",
    "\n",
    "Gammas = []\n",
    "Xrays = []\n",
    "class ToRI:\n",
    "    def __init__(self):\n",
    "        self.Gammas_table = []\n",
    "        self.Xrays_table = []\n",
    "        self.X_table = []\n",
    "        self.Gammas = []\n",
    "        self.stable = []\n",
    "        self.Read_Gammas()\n",
    "#         self.Mold()\n",
    "#         self.ToRI_scraping()\n",
    "#         self.write_Gammas('finish')\n",
    "#         self.write_Xrays('finish')\n",
    "        \n",
    "\n",
    "    def ToRI_scraping(self):\n",
    "        for z in tqdm(range(79,110)):\n",
    "#             z = 13\n",
    "            sleep(5)\n",
    "            url = 'http://nucleardata.nuclear.lu.se/toi/listnuc.asp?Z='+str(z)\n",
    "            page_res = requests.get(url).text\n",
    "            page_soup = bs4(page_res, 'lxml')\n",
    "            self.a_url = page_soup.find_all('a')[:-3]\n",
    "            for i in tqdm(self.a_url):\n",
    "                sleep(5)\n",
    "                check_url = i.attrs['href']\n",
    "                check_url = 'http://nucleardata.nuclear.lu.se/toi/' + check_url\n",
    "                page2_res = requests.get(check_url).text\n",
    "                page2_soup = bs4(page2_res, 'lxml')\n",
    "                per_table = page2_soup.find_all('table')\n",
    "                per_table_level = 0\n",
    "                if 'level' in per_table[0].text.replace(u'\\xa0', ' '):\n",
    "                    per_table_level = per_table[0].text.replace(u'\\xa0', ' ').split('\\n')[19].split(':')[1].split()[0]\n",
    "                else:\n",
    "                    per_table_level = 0\n",
    "                for ii in per_table:\n",
    "                    per_table = ii.text.replace(u'\\xa0', ' ')\n",
    "                    if per_table.startswith('\\nGammas from'):\n",
    "                        per_table_Gammas = per_table.split('\\n')\n",
    "                        num = re.sub('\\\\D','',per_table_Gammas[1].split()[2])\n",
    "                        for ii in range((len(per_table_Gammas)-5)//5):\n",
    "                            if per_table_Gammas[7+5*ii] == ' ':\n",
    "                                self.Gammas_table.append(str(z)+','+num+','+str(per_table_level)+','+per_table_Gammas[6+5*ii].split()[0]+','+'no data'+','\\\n",
    "                                                         +(per_table_Gammas[1].split()[3]+per_table_Gammas[1].split()[4]).lstrip('('))\n",
    "                                Gammas.append(str(z)+','+num+','+str(per_table_level)+','+per_table_Gammas[6+5*ii].split()[0]+','+'no data'+','\\\n",
    "                                                         +(per_table_Gammas[1].split()[3]+per_table_Gammas[1].split()[4]).lstrip('('))\n",
    "                            else:\n",
    "                                if len(per_table_Gammas[7+5*ii].split()) == 2 and '*' in per_table_Gammas[7+5*ii].split()[1]:\n",
    "                                    self.Gammas_table.append(str(z)+','+num+','+str(per_table_level)+','+per_table_Gammas[6+5*ii].split()[0]+','+per_table_Gammas[7+5*ii].split()[0]+'*'+','\\\n",
    "                                                         +(per_table_Gammas[1].split()[3]+per_table_Gammas[1].split()[4]).lstrip('('))\n",
    "                                    Gammas.append(str(z)+','+num+','+str(per_table_level)+','+per_table_Gammas[6+5*ii].split()[0]+','+per_table_Gammas[7+5*ii].split()[0]+'*'+','\\\n",
    "                                                         +(per_table_Gammas[1].split()[3]+per_table_Gammas[1].split()[4]).lstrip('('))\n",
    "                                else:\n",
    "                                    self.Gammas_table.append(str(z)+','+num+','+str(per_table_level)+','+per_table_Gammas[6+5*ii].split()[0]+','+per_table_Gammas[7+5*ii].split()[0]+','\\\n",
    "                                                             +(per_table_Gammas[1].split()[3]+per_table_Gammas[1].split()[4]).lstrip('('))\n",
    "                                    Gammas.append(str(z)+','+num+','+str(per_table_level)+','+per_table_Gammas[6+5*ii].split()[0]+','+per_table_Gammas[7+5*ii].split()[0]+','\\\n",
    "                                                     +(per_table_Gammas[1].split()[3]+per_table_Gammas[1].split()[4]).lstrip('('))\n",
    "                    if per_table.startswith('\\nX-rays from'):\n",
    "                        per_table_Xrays = per_table.split('\\n')\n",
    "                        num = re.sub('\\\\D','',per_table_Xrays[1].split()[2])\n",
    "                        for ii in range((len(per_table_Xrays)-5)//5):\n",
    "                            energy = per_table_Xrays[6+5*ii].split()[0].replace(',','.')\n",
    "                            if per_table_Xrays[7+5*ii] == ' ':\n",
    "                                self.Xrays_table.append(str(z)+','+num+','+str(per_table_level)+','+energy+','+'no data'+','\\\n",
    "                                                         +(per_table_Xrays[1].split()[3]+per_table_Xrays[1].split()[4]).lstrip('('))\n",
    "                                Xrays.append(str(z)+','+num+','+str(per_table_level)+','+energy+','+'no data'+','\\\n",
    "                                                         +(per_table_Xrays[1].split()[3]+per_table_Xrays[1].split()[4]).lstrip('('))\n",
    "                            else:\n",
    "                                if len(per_table_Xrays[7+5*ii].split()) == 2 and '*' in per_table_Xrays[7+5*ii].split()[1]:\n",
    "                                    self.Xrays_table.append(str(z)+','+num+','+str(per_table_level)+','+energy+','+per_table_Xrays[7+5*ii].split()[0]+'*'+','\\\n",
    "                                                         +(per_table_Xrays[1].split()[3]+per_table_Xrays[1].split()[4]).lstrip('('))\n",
    "                                    Xrays.append(str(z)+','+num+','+str(per_table_level)+','+energy+','+per_table_Xrays[7+5*ii].split()[0]+'*'+','\\\n",
    "                                                         +(per_table_Xrays[1].split()[3]+per_table_Xrays[1].split()[4]).lstrip('('))\n",
    "                                else:\n",
    "                                    self.Xrays_table.append(str(z)+','+num+','+str(per_table_level)+','+energy+','+per_table_Xrays[7+5*ii].split()[0]+','\\\n",
    "                                                             +(per_table_Xrays[1].split()[3]+per_table_Xrays[1].split()[4]).lstrip('('))\n",
    "                                    Xrays.append(str(z)+','+num+','+str(per_table_level)+','+energy+','+per_table_Xrays[7+5*ii].split()[0]+','\\\n",
    "                                                     +(per_table_Xrays[1].split()[3]+per_table_Xrays[1].split()[4]).lstrip('('))\n",
    "                                    \n",
    "            self.write_Gammas(z)\n",
    "            self.write_Xrays(z)\n",
    "\n",
    "    \n",
    "    def write_Gammas(self, x):\n",
    "        with open(\"Gammas\"+str(x)+\".csv\", mode = \"w\") as f:\n",
    "            for i in self.Gammas_table:\n",
    "                f.write(i)\n",
    "                f.write(\"\\n\")\n",
    "        f.close\n",
    "        \n",
    "    def write_Xrays(self, x):\n",
    "        with open(\"Xrays\"+str(x)+\".csv\", mode = \"w\") as f:\n",
    "            for i in self.Xrays_table:\n",
    "                f.write(i)\n",
    "                f.write(\"\\n\")\n",
    "        f.close\n",
    "        \n",
    "    def Read_Gammas(self):\n",
    "        f = open(\"Xrays_molded.csv\")\n",
    "        line = f.readline()\n",
    "        while line:\n",
    "            line = line.rstrip()\n",
    "            self.Gammas.append(line.rstrip().split(','))\n",
    "            if float(line.rstrip().split(',')[1]) > 500:\n",
    "                print(line)\n",
    "            line = f.readline()\n",
    "        f.close\n",
    "    \n",
    "    def Mold(self):\n",
    "        with open(\"Xrays_molded.csv\", mode = \"w\") as f:\n",
    "            for i in self.Gammas:\n",
    "                if i[4] != \"no data\":\n",
    "                    if i[5][0] == \"~\":\n",
    "                        i[5] = i[5][1:]\n",
    "                        if str(i[5][len(i[5])-2]) + str(i[5][len(i[5])-1]) == \"ms\":\n",
    "                            d = \"\"\n",
    "                            for ii in range(len(i[5])-2):\n",
    "                                d = d + i[5][ii]\n",
    "                            d = float(d)\n",
    "                            f.write(i[0]+\",\"+i[1]+\",\"+i[2]+\",\"+i[3]+\",\"+i[4]+\",\"+\"~\"+str(d/1000)+\"s\"+\"\\n\")\n",
    "                        else:\n",
    "                            f.write(i[0]+\",\"+i[1]+\",\"+i[2]+\",\"+i[3]+\",\"+i[4]+\",\"+i[5]+\"\\n\")\n",
    "                    else:\n",
    "                        if str(i[5][len(i[5])-2]) + str(i[5][len(i[5])-1]) == \"ms\":\n",
    "                            d = \"\"\n",
    "                            for ii in range(len(i[5])-2):\n",
    "                                d = d + i[5][ii]\n",
    "                            d = float(d)\n",
    "                            f.write(i[0]+\",\"+i[1]+\",\"+i[2]+\",\"+i[3]+\",\"+i[4]+\",\"+str(d/1000)+\"s\"+\"\\n\")\n",
    "                        else:\n",
    "                            f.write(i[0]+\",\"+i[1]+\",\"+i[2]+\",\"+i[3]+\",\"+i[4]+\",\"+i[5]+\"\\n\")\n",
    "                        \n",
    "        \n",
    "        def add_stable(self):\n",
    "            with open(\"Gamma_molded.csv\", mode = \"w\") as f:\n",
    "                for i in self.Gammas:\n",
    "                    f.write(i[0]+\",\"+i[1]+\",\"+i[2]+\",\"+i[3]+\",\"+i[4]+\",\"+i[5]+\"\\n\")\n",
    "            \n",
    "if __name__ == \"__main__\":\n",
    "    execute = ToRI()\n"
   ]
  },
  {
   "cell_type": "code",
   "execution_count": null,
   "metadata": {},
   "outputs": [],
   "source": []
  }
 ],
 "metadata": {
  "kernelspec": {
   "display_name": "Python 3",
   "language": "python",
   "name": "python3"
  },
  "language_info": {
   "codemirror_mode": {
    "name": "ipython",
    "version": 3
   },
   "file_extension": ".py",
   "mimetype": "text/x-python",
   "name": "python",
   "nbconvert_exporter": "python",
   "pygments_lexer": "ipython3",
   "version": "3.8.5"
  },
  "varInspector": {
   "cols": {
    "lenName": 16,
    "lenType": 16,
    "lenVar": 40
   },
   "kernels_config": {
    "python": {
     "delete_cmd_postfix": "",
     "delete_cmd_prefix": "del ",
     "library": "var_list.py",
     "varRefreshCmd": "print(var_dic_list())"
    },
    "r": {
     "delete_cmd_postfix": ") ",
     "delete_cmd_prefix": "rm(",
     "library": "var_list.r",
     "varRefreshCmd": "cat(var_dic_list()) "
    }
   },
   "position": {
    "height": "606px",
    "left": "1252px",
    "right": "20px",
    "top": "115px",
    "width": "398px"
   },
   "types_to_exclude": [
    "module",
    "function",
    "builtin_function_or_method",
    "instance",
    "_Feature"
   ],
   "window_display": true
  }
 },
 "nbformat": 4,
 "nbformat_minor": 4
}
