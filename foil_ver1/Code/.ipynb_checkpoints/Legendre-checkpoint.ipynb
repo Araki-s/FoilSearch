{
 "cells": [
  {
   "cell_type": "code",
   "execution_count": 52,
   "metadata": {},
   "outputs": [
    {
     "name": "stdout",
     "output_type": "stream",
     "text": [
      "        19         18         17         16         15         14\n",
      "-1.839 x  - 1.447 x  + 7.967 x  + 6.761 x  - 12.13 x  - 7.583 x \n",
      "         13         12         11         10         9         8\n",
      " + 17.3 x  + 16.23 x  + 1.401 x  + 5.421 x  + 7.596 x - 14.11 x\n",
      "          7         6         5         4         3         2\n",
      " - 24.19 x - 1.671 x + 13.98 x + 5.382 x - 2.463 x - 1.317 x + 0.1209 x + 0.1118\n"
     ]
    },
    {
     "data": {
      "image/png": "[encoded data removed]",
      "text/plain": [
       "<Figure size 432x288 with 1 Axes>"
      ]
     },
     "metadata": {
      "needs_background": "light"
     },
     "output_type": "display_data"
    },
    {
     "data": {
      "text/plain": [
       "15.51981672701001"
      ]
     },
     "execution_count": 52,
     "metadata": {},
     "output_type": "execute_result"
    }
   ],
   "source": [
    "from scipy import special\n",
    "import numpy as np\n",
    "import matplotlib.pyplot as plt\n",
    "\n",
    "a =[1, 8.526576e-1, 7.426653e-1, 6.334401e-1, 5.144084e-1, 3.855351e-1, 2.707365e-1, 1.875680e-1, 1.218875e-1, 6.440667e-2, 2.636270e-2, 8.411086e-3, 2.571437e-3, 6.675556e-4, 1.578260e-4, 2.991218e-5, 2.875709e-6, -1.701676e-6, -2.259600e-6, -1.398623e-6, 0.000000e+0]\n",
    "\n",
    "sum = 0\n",
    "for i in range(21):\n",
    "#     print((2*i)/2 * a[0] * scipy.special.legendre(i))\n",
    "    sum = sum + (2*i+1)/2 * a[i] * scipy.special.legendre(i)\n",
    "#     print(sum)\n",
    "#     print(i,\"-----------------\")\n",
    "#     print(a[i])\n",
    "#     print(scipy.special.legendre(i))\n",
    "    \n",
    "print(sum)\n",
    "\n",
    "x = np.linspace(-1, 1, 1000)\n",
    "legendre = []\n",
    "for i in x:\n",
    "    legendre.append(sum(i))\n",
    "\n",
    "plt.plot(x,legendre)\n",
    "\n",
    "plt.yscale(\"log\")\n",
    "plt.show()\n",
    "  \n",
    "    \n",
    "sum(1)"
   ]
  },
  {
   "cell_type": "code",
   "execution_count": null,
   "metadata": {},
   "outputs": [],
   "source": []
  }
 ],
 "metadata": {
  "kernelspec": {
   "display_name": "Python 3",
   "language": "python",
   "name": "python3"
  },
  "language_info": {
   "codemirror_mode": {
    "name": "ipython",
    "version": 3
   },
   "file_extension": ".py",
   "mimetype": "text/x-python",
   "name": "python",
   "nbconvert_exporter": "python",
   "pygments_lexer": "ipython3",
   "version": "3.8.5"
  }
 },
 "nbformat": 4,
 "nbformat_minor": 4
}
