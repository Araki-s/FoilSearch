{
 "cells": [
  {
   "cell_type": "code",
   "execution_count": 1,
   "metadata": {
    "scrolled": true
   },
   "outputs": [
    {
     "name": "stdout",
     "output_type": "stream",
     "text": [
      "['93.125']\n",
      "['47']\n",
      "['107']\n",
      "['44.3s']\n",
      "['93.124', '4.7 ']\n"
     ]
    },
    {
     "data": {
      "text/plain": [
       "<function TextIOWrapper.close()>"
      ]
     },
     "execution_count": 1,
     "metadata": {},
     "output_type": "execute_result"
    }
   ],
   "source": [
    "#Gammas.txtにhttp://nucleardata.nuclear.lu.se/toi/perchart.htmをそのままコピーして貼り付けてこのプログラムを動かすとcsvに形成してくれる\n",
    "\n",
    "import math\n",
    "line_list = []\n",
    "all_data = []\n",
    "Gammas_list = []\n",
    "reference = \"../../reference/\"\n",
    "k = 0#Gammas.csvが何行あるか\n",
    "\n",
    "f = open(reference + \"/Gammas.csv\")\n",
    "line = f.readline()\n",
    "while line:\n",
    "    k = k + 1\n",
    "#     print(line)\n",
    "    Gammas_list.append(line)\n",
    "    line = f.readline()\n",
    "f.close\n",
    "\n",
    "\n",
    "\n",
    "f = open(\"../../For_make_Gamma.csv/Gammas.txt\")\n",
    "line = f.readline()\n",
    "# f.close()\n",
    "while line:\n",
    "#     print(line)\n",
    "    data_list = []\n",
    "    s = line.split(\"\\t\")\n",
    "    \n",
    "    if len(s) !=1:\n",
    "        s0 = s[0].split()\n",
    "        data_list.append(s0[0])\n",
    "\n",
    "        s1 = s[1].split()\n",
    "        if len(s1) == 2:\n",
    "            if \"*\" in s1[1]:\n",
    "                data_list.append(s1[0]+\"*\")\n",
    "            else:\n",
    "                data_list.append(s1[0])\n",
    "        else:\n",
    "            data_list.append(s[1])\n",
    "    else:\n",
    "        data_list.append(s[0].rstrip(\"\\n\"))\n",
    "    \n",
    "    \n",
    "#     if len(s1) != 0:\n",
    "#         data_list.append(s1[0])\n",
    "#     elif len(s1) == 0:\n",
    "#         data_list.append(s[1])\n",
    "    all_data.append(data_list)\n",
    "    line = f.readline()\n",
    "\n",
    "for i in range(len(all_data)):\n",
    "    print(all_data[i])\n",
    "\n",
    "with open(reference + \"Gammas.csv\", mode = \"w\") as f:\n",
    "    for i in range(len(Gammas_list)):\n",
    "        f.write(Gammas_list[i])\n",
    "    for i in range(4,len(all_data)):\n",
    "        if len(all_data[i][1]) !=1:\n",
    "            f.write(all_data[1][0])\n",
    "            f.write(\",\")\n",
    "            f.write(all_data[2][0])\n",
    "            f.write(\",\")\n",
    "            f.write(all_data[0][0])\n",
    "            f.write(\",\")\n",
    "            f.write(str(all_data[i][0]))\n",
    "            f.write(\",\")\n",
    "            f.write(str(all_data[i][1]))\n",
    "            f.write(\",\")\n",
    "            f.write(all_data[3][0\n",
    "                               ])\n",
    "            f.write(\"\\n\")\n",
    "f.close\n",
    "\n"
   ]
  },
  {
   "cell_type": "code",
   "execution_count": null,
   "metadata": {},
   "outputs": [],
   "source": []
  },
  {
   "cell_type": "code",
   "execution_count": null,
   "metadata": {},
   "outputs": [],
   "source": []
  }
 ],
 "metadata": {
  "kernelspec": {
   "display_name": "Python 3",
   "language": "python",
   "name": "python3"
  },
  "language_info": {
   "codemirror_mode": {
    "name": "ipython",
    "version": 3
   },
   "file_extension": ".py",
   "mimetype": "text/x-python",
   "name": "python",
   "nbconvert_exporter": "python",
   "pygments_lexer": "ipython3",
   "version": "3.8.5"
  }
 },
 "nbformat": 4,
 "nbformat_minor": 4
}
