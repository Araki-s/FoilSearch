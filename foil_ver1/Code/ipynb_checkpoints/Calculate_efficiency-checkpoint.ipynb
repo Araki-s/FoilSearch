{
 "cells": [
  {
   "cell_type": "code",
   "execution_count": 30,
   "metadata": {
    "collapsed": true,
    "jupyter": {
     "outputs_hidden": true
    }
   },
   "outputs": [
    {
     "name": "stderr",
     "output_type": "stream",
     "text": [
      "C:\\Users\\takeh\\anaconda3\\lib\\site-packages\\ipykernel_launcher.py:34: RuntimeWarning: invalid value encountered in log\n"
     ]
    },
    {
     "name": "stdout",
     "output_type": "stream",
     "text": [
      "parameter -> [-1.02263187e+02  5.95017406e+01 -1.38231276e+01  1.60249077e+00\n",
      " -9.26633897e-02  2.13708311e-03  4.76056260e-02]\n",
      "0.7319464997607237\n"
     ]
    },
    {
     "data": {
      "image/png": "[encoded data removed]",
      "text/plain": [
       "<Figure size 432x288 with 1 Axes>"
      ]
     },
     "metadata": {
      "needs_background": "light"
     },
     "output_type": "display_data"
    }
   ],
   "source": [
    "#検出器の効率を計算するプログラム\n",
    "\n",
    "import numpy as np\n",
    "import matplotlib\n",
    "import matplotlib.pyplot as plt\n",
    "from scipy.optimize import curve_fit\n",
    "import csv\n",
    "import numpy as np\n",
    "\n",
    "reference = \"../../reference/\"#プログラムで読み取るファイルを入れるフォルダ\n",
    "\n",
    "xdata = []\n",
    "ydata = []\n",
    "\n",
    "x = []\n",
    "for i in range(59,1300):\n",
    "    x.append(i)\n",
    "\n",
    "\n",
    "f = open(reference + \"/calculate_efficiency.txt\")\n",
    "line = f.readline()\n",
    "while line:\n",
    "    line = line.rstrip()\n",
    "    s = line.split(\"\\t\")\n",
    "    xdata.append(float(s[0]))\n",
    "    ydata.append(float(s[1]))\n",
    "#     print(s[0],s[1])\n",
    "    line = f.readline()\n",
    "f.close\n",
    "\n",
    "\n",
    "##### フィッティングする関数y=f(x)の定義\n",
    "def func(x, a0, a1, a2, a3 , a4, a5, E):\n",
    "    return a0 + a1*np.log(x/E) + a2*(np.log(x/E))**2 + a3*(np.log(x/E))**3 + a4*(np.log(x/E))**4 + a5*(np.log(x/E))**5\n",
    "\n",
    "##### 最適化するy=f(x)の係数の初期値\n",
    "prameter_initial = np.array([1, 1, 1, 1, 1, 1, 1])\n",
    "\n",
    "##### 最適化の計算[2]\n",
    "popt, pcov = curve_fit(func, xdata, ydata, p0= prameter_initial)\n",
    "print (\"parameter ->\", popt)\n",
    "\n",
    "##### 最適化後のy=f(x)の関数\n",
    "# y = func(xdata, popt[0], popt[1], popt[2], popt[3], popt[4], popt[5])\n",
    "y = func(x, *popt)\n",
    "\n",
    "##### 生データと最適化後の関数をグラフにプロット\n",
    "# 元の生データを点プロット\n",
    "plt.scatter(xdata, ydata, c='black', label='raw data')\n",
    "# 最適化後のフィット関数を線でプロット\n",
    "plt.plot(x, y, 'r-',label = \"fitting\")\n",
    "\n",
    "x_user = 93.326\n",
    "y_user = func(x_user, *popt)\n",
    "plt.scatter(x_user,y_user,s=50,c='blue')\n",
    "##### グラフ表示のオプション設定 #####\n",
    "plt.xlabel('Neutron Energy [KeV]', fontsize=18)     # x軸の名称とフォントサイズ\n",
    "plt.ylabel('Efficiency', fontsize=18)     # y軸の名称とフォントサイズ\n",
    "plt.yscale(\"log\")                # y軸のスケールをログに指定\n",
    "plt.xscale(\"log\")  \n",
    "# plt.ylim([1e15,1e20])            # y軸のレンジの範囲を指定\n",
    "#plt.rcParams[\"font.size\"]=16    # 全体のフォントを変更\n",
    "plt.legend(loc='upper right')    # ラベルを右上に記載\n",
    "plt.tight_layout()               # タイトルを重ねない\n",
    "# plt.show()                       # グラフをプロット\n",
    "plt.savefig(\"optimize_fit.png\")  # 画像をファイルで保存\n",
    "\n",
    "residuals =  ydata- func(xdata, *popt)\n",
    "rss = np.sum(residuals**2)#residual sum of squares = rss\n",
    "tss = np.sum((ydata-np.mean(ydata))**2)#total sum of squares = tss\n",
    "r_squared = 1 - (rss / tss)\n",
    "print(r_squared)"
   ]
  },
  {
   "cell_type": "code",
   "execution_count": 9,
   "metadata": {},
   "outputs": [
    {
     "name": "stdout",
     "output_type": "stream",
     "text": [
      "0.03119823860359139\n",
      "0.009078065267201119\n",
      "0.0021111385368588337\n",
      "0.012788153105461372\n",
      "0.03360898586262115\n"
     ]
    }
   ],
   "source": [
    "print(func(93.326, *popt))\n",
    "print(func(934.44, *popt))\n",
    "print(func(55.2008, *popt))\n",
    "print(func(63.2, *popt))\n",
    "print(func(103.6, *popt))"
   ]
  },
  {
   "cell_type": "code",
   "execution_count": 40,
   "metadata": {},
   "outputs": [
    {
     "data": {
      "image/png": "[encoded data removed]",
      "text/plain": [
       "<Figure size 432x288 with 1 Axes>"
      ]
     },
     "metadata": {
      "needs_background": "light"
     },
     "output_type": "display_data"
    }
   ],
   "source": [
    "#検出器の効率を計算するプログラム\n",
    "\n",
    "import numpy as np\n",
    "import matplotlib\n",
    "import matplotlib.pyplot as plt\n",
    "from scipy.optimize import curve_fit\n",
    "import csv\n",
    "import numpy as np\n",
    "import os\n",
    "\n",
    "reference = \"../../reference/\"#プログラムで読み取るファイルを入れるフォルダ\n",
    "\n",
    "xdata = []\n",
    "ydata = []\n",
    "data_name = []\n",
    "\n",
    "x = []\n",
    "for i in range(59,1300):\n",
    "    x.append(i)\n",
    "\n",
    "files = os.listdir(reference + \"/Efficiency/\")\n",
    "\n",
    "for i in files:\n",
    "    x = []\n",
    "    y = []\n",
    "    f = open(reference + \"/Efficiency/\" + i)\n",
    "    line = f.readline()\n",
    "    while line:\n",
    "        line = line.rstrip()\n",
    "        s = line.split(\"\\t\")\n",
    "        x.append(float(s[0]))\n",
    "        y.append(float(s[1]))\n",
    "        line = f.readline()\n",
    "    f.close\n",
    "    xdata.append(x)\n",
    "    ydata.append(y)\n",
    "    data_name.append(i)\n",
    "    \n",
    "for i in range(len(xdata)):\n",
    "    plt.scatter(xdata[i],ydata[i],label = data_name[i])\n",
    "    plt.legend(bbox_to_anchor=(1.05, 1), loc='upper left', borderaxespad=0, fontsize=10)\n",
    "    \n",
    "plt.yscale(\"log\")                # y軸のスケールをログに指定\n",
    "plt.xscale(\"log\") \n",
    "plt.show()\n",
    "\n",
    "# ##### フィッティングする関数y=f(x)の定義\n",
    "# def func(x, a0, a1, a2, a3 , a4, a5, E):\n",
    "#     return a0 + a1*np.log(x/E) + a2*(np.log(x/E))**2 + a3*(np.log(x/E))**3 + a4*(np.log(x/E))**4 + a5*(np.log(x/E))**5\n",
    "\n",
    "# ##### 最適化するy=f(x)の係数の初期値\n",
    "# prameter_initial = np.array([1, 1, 1, 1, 1, 1, 1])\n",
    "\n",
    "# ##### 最適化の計算[2]\n",
    "# popt, pcov = curve_fit(func, xdata, ydata, p0= prameter_initial)\n",
    "# print (\"parameter ->\", popt)\n",
    "\n",
    "# ##### 最適化後のy=f(x)の関数\n",
    "# # y = func(xdata, popt[0], popt[1], popt[2], popt[3], popt[4], popt[5])\n",
    "# y = func(x, *popt)\n",
    "\n",
    "# ##### 生データと最適化後の関数をグラフにプロット\n",
    "# # 元の生データを点プロット\n",
    "# plt.scatter(xdata, ydata, c='black', label='raw data')\n",
    "# # 最適化後のフィット関数を線でプロット\n",
    "# plt.plot(x, y, 'r-',label = \"fitting\")\n",
    "\n",
    "# x_user = 93.326\n",
    "# y_user = func(x_user, *popt)\n",
    "# plt.scatter(x_user,y_user,s=50,c='blue')\n",
    "# ##### グラフ表示のオプション設定 #####\n",
    "# plt.xlabel('Neutron Energy [KeV]', fontsize=18)     # x軸の名称とフォントサイズ\n",
    "# plt.ylabel('Efficiency', fontsize=18)     # y軸の名称とフォントサイズ\n",
    "# plt.yscale(\"log\")                # y軸のスケールをログに指定\n",
    "# plt.xscale(\"log\")  \n",
    "# # plt.ylim([1e15,1e20])            # y軸のレンジの範囲を指定\n",
    "# #plt.rcParams[\"font.size\"]=16    # 全体のフォントを変更\n",
    "# plt.legend(loc='upper right')    # ラベルを右上に記載\n",
    "# plt.tight_layout()               # タイトルを重ねない\n",
    "# # plt.show()                       # グラフをプロット\n",
    "# plt.savefig(\"optimize_fit.png\")  # 画像をファイルで保存\n",
    "\n",
    "# residuals =  ydata- func(xdata, *popt)\n",
    "# rss = np.sum(residuals**2)#residual sum of squares = rss\n",
    "# tss = np.sum((ydata-np.mean(ydata))**2)#total sum of squares = tss\n",
    "# r_squared = 1 - (rss / tss)\n",
    "# print(r_squared)"
   ]
  },
  {
   "cell_type": "code",
   "execution_count": null,
   "metadata": {},
   "outputs": [],
   "source": []
  }
 ],
 "metadata": {
  "kernelspec": {
   "display_name": "Python 3",
   "language": "python",
   "name": "python3"
  },
  "language_info": {
   "codemirror_mode": {
    "name": "ipython",
    "version": 3
   },
   "file_extension": ".py",
   "mimetype": "text/x-python",
   "name": "python",
   "nbconvert_exporter": "python",
   "pygments_lexer": "ipython3",
   "version": "3.8.5"
  }
 },
 "nbformat": 4,
 "nbformat_minor": 4
}
