{
 "cells": [
  {
   "cell_type": "code",
   "execution_count": 2,
   "metadata": {},
   "outputs": [
    {
     "name": "stdout",
     "output_type": "stream",
     "text": [
      "Au197.txt\n",
      "179.3727866190917\n",
      "Ir191.txt\n",
      "14.21725676470588\n",
      "Ir193.txt\n",
      "6.508328510638297\n",
      "Nb 93.txt\n",
      "24.587678988017935\n",
      "Os192.txt\n",
      "50.208005915584415\n",
      "Re187.txt\n",
      "4.761440635330837\n",
      "Sb123.txt\n",
      "50.28904529670099\n",
      "Ta181.txt\n",
      "83.95245277083872\n"
     ]
    },
    {
     "data": {
      "image/png": "[encoded data removed]",
      "text/plain": [
       "<Figure size 432x288 with 1 Axes>"
      ]
     },
     "metadata": {
      "needs_background": "light"
     },
     "output_type": "display_data"
    }
   ],
   "source": [
    "import os\n",
    "import matplotlib.pyplot as plt\n",
    "import re\n",
    "import time\n",
    "import numpy as np\n",
    "files = os.listdir()\n",
    "txtfiles = []\n",
    "regex = re.compile(r'(.txt)$')\n",
    "for name in files:#filesは上記例で得られたリスト\n",
    "    if regex.search(name):\n",
    "         txtfiles.append(name)\n",
    "\n",
    "x_list = []\n",
    "y_list = []\n",
    "def numeric(a):\n",
    "    k = \"\"\n",
    "    if a[len(a)-2] == \"+\" or a[len(a)-2] == \"-\":\n",
    "        for i in range(len(a)):\n",
    "            if i == len(a)-2:\n",
    "                k = k + \"E\" + a[i]\n",
    "            else:\n",
    "                k = k + a[i]\n",
    "        return k\n",
    "    if a[len(a)-3] == \"+\" or a[len(a)-3] == \"-\":\n",
    "        for i in range(len(a)):\n",
    "            if i == len(a)-3:\n",
    "                k = k + \"E\" + a[i]\n",
    "            else:\n",
    "                k = k + a[i]\n",
    "        return k\n",
    "    else:\n",
    "        return a\n",
    "   \n",
    "def all_cross_section(x):\n",
    "    f = open(x)\n",
    "    line = f.readline()\n",
    "    x_all = []\n",
    "    y_all = []\n",
    "    p = 0\n",
    "    while line:\n",
    "        p = p + 1\n",
    "        if p > 4:\n",
    "#             if len(line[:-15].split())!=6:\n",
    "#                 print(len(line[:-15].split()))\n",
    "            for ii in range(int((len(line[:-15].split()))/2)):\n",
    "                x_all.append(float(numeric(line[:-15].split()[ii*2])))\n",
    "                y_all.append(float(numeric(line[:-15].split()[ii*2+1])))\n",
    "                \n",
    "        line = f.readline()\n",
    "    f.close\n",
    "    \n",
    "for i in txtfiles:\n",
    "    print(i)\n",
    "    f = open(i)\n",
    "    line = f.readline()\n",
    "    x = []\n",
    "    y = []\n",
    "    p = 0\n",
    "    while line:\n",
    "        p = p + 1\n",
    "        if p > 4:\n",
    "#             if len(line[:-15].split())!=6:\n",
    "#                 print(len(line[:-15].split()))\n",
    "            for ii in range(int((len(line[:-15].split()))/2)):\n",
    "                x.append(float(numeric(line[:-15].split()[ii*2])))\n",
    "                y.append(float(numeric(line[:-15].split()[ii*2+1])))\n",
    "                \n",
    "        line = f.readline()\n",
    "#     with open(i+\"mod.txt\", mode = \"w\") as f:\n",
    "#         for i in range(len(x)):\n",
    "#             f.write(x[i]+\"\\t\"+y[i]+\"\\n\")\n",
    "    plt.plot(x,y,label=i.split(\".\")[0])\n",
    "    print(np.mean(y))\n",
    "    x_list.append(x)\n",
    "    y_list.append(y)\n",
    "\n",
    "    \n",
    "#     f.close\n",
    "    \n",
    "plt.xlim(8E+6,1.5E+7)\n",
    "plt.ylim(3,7)\n",
    "plt.yscale(\"log\")\n",
    "plt.legend(bbox_to_anchor=(1.05, 1), loc='upper left', borderaxespad=0, fontsize=10)\n",
    "plt.savefig(\"a.png\", format=\"png\", dpi=300,bbox_inches=\"tight\")\n",
    "# for i in range(len(x_list)):\n",
    "#     plt.plot(x_list[i],y_list[i])\n",
    "#     plt.show()"
   ]
  },
  {
   "cell_type": "code",
   "execution_count": null,
   "metadata": {},
   "outputs": [],
   "source": []
  },
  {
   "cell_type": "code",
   "execution_count": 127,
   "metadata": {},
   "outputs": [
    {
     "name": "stdout",
     "output_type": "stream",
     "text": [
      "0.92761753149892\n",
      "0.9232845230143011\n"
     ]
    }
   ],
   "source": [
    "#Nbのカウントリスト------------------------------\n",
    "Nb_a = 92.90637\n",
    "Nb_b = 1.0\n",
    "Nb_c = float(\"1.429090E-1\")\n",
    "Nb_d = 10.15*24*60*60\n",
    "Nb_e = 0.9907\n",
    "Nb_f = float(\"5.61E-03\")\n",
    "Nb_g = 0.0609\n",
    "Nb_h = 8.57\n",
    "r = 1.5#箔の半径\n",
    "l = 0.5\n",
    "f = 5.5\n",
    "print((1-np.exp(-Nb_h/Nb_a*6*10**23*f*10**(-24)*l))/(Nb_h/Nb_a*6*10**23*f*10**(-24)*l))\n",
    "print((1-np.exp(-19.32/197*6*10**23*f*10**(-24)*l))/(19.32/197*6*10**23*f*10**(-24)*l))"
   ]
  },
  {
   "cell_type": "code",
   "execution_count": null,
   "metadata": {},
   "outputs": [],
   "source": []
  }
 ],
 "metadata": {
  "kernelspec": {
   "display_name": "Python 3",
   "language": "python",
   "name": "python3"
  },
  "language_info": {
   "codemirror_mode": {
    "name": "ipython",
    "version": 3
   },
   "file_extension": ".py",
   "mimetype": "text/x-python",
   "name": "python",
   "nbconvert_exporter": "python",
   "pygments_lexer": "ipython3",
   "version": "3.7.6"
  }
 },
 "nbformat": 4,
 "nbformat_minor": 4
}
